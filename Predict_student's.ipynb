{
  "nbformat": 4,
  "nbformat_minor": 0,
  "metadata": {
    "colab": {
      "name": "Predict_student's.ipynb",
      "provenance": [],
      "collapsed_sections": []
    },
    "kernelspec": {
      "name": "python3",
      "display_name": "Python 3"
    },
    "language_info": {
      "name": "python"
    },
    "accelerator": "GPU",
    "gpuClass": "standard"
  },
  "cells": [
    {
      "cell_type": "code",
      "execution_count": 27,
      "metadata": {
        "id": "FXxNgyetH15e"
      },
      "outputs": [],
      "source": [
        "import pandas as pd\n",
        "import numpy as np\n",
        "import matplotlib.pyplot as plt\n",
        "import seaborn as sns\n",
        "%matplotlib inline\n",
        "\n",
        "import sklearn # scikit-learn kutubxonasi\n",
        "from sklearn.preprocessing import OneHotEncoder, StandardScaler\n",
        "from sklearn.model_selection import train_test_split\n",
        "from sklearn.impute import SimpleImputer\n",
        "from sklearn.compose import ColumnTransformer\n",
        "from sklearn.model_selection import StratifiedShuffleSplit\n",
        "from sklearn.linear_model import LogisticRegression, LinearRegression\n",
        "from sklearn.tree import DecisionTreeClassifier, plot_tree\n",
        "from sklearn.ensemble import RandomForestClassifier, RandomForestRegressor\n",
        "from sklearn.metrics import mean_squared_error\n",
        "from sklearn.tree import DecisionTreeRegressor\n",
        "from sklearn.model_selection import cross_val_score\n",
        "from sklearn.metrics import precision_score, recall_score, f1_score, accuracy_score\n",
        "from sklearn.metrics import classification_report\n",
        "from sklearn.svm import SVC\n",
        "from sklearn.metrics import confusion_matrix\n",
        "from xgboost import XGBClassifier\n",
        "\n",
        "from sklearn.pipeline import Pipeline\n",
        "from sklearn import metrics "
      ]
    },
    {
      "cell_type": "markdown",
      "source": [
        "# Bizning ushbu modelni qurishdagi vazifamiz **`UNS`**(o'quvchilarning bilim darajasi) ni bashorat qilish "
      ],
      "metadata": {
        "id": "ZITRG5MW2JRw"
      }
    },
    {
      "cell_type": "markdown",
      "source": [
        "## **Ta'rif**\n",
        "\n",
        "- `STG`\t--->  *Maqsad ob'ekti materiallarini o'rganish vaqti darajasi*\n",
        "\n",
        "- `SCG`\t--->  *Maqsad ob'ekti materiallari uchun foydalanuvchining takrorlanish soni*\n",
        "\n",
        "- `STR`\t--->  *Maqsad ob'ekti bilan bog'liq ob'ektlar uchun foydalanuvchining o'rganish vaqti darajasi*\n",
        "\n",
        "- `LPR`\t--->  *Maqsad ob'ekti bilan bog'liq ob'ektlar uchun foydalanuvchining imtihon natijalari*\n",
        "\n",
        "- `PEG`\t--->  *Maqsad ob'ektlari uchun foydalanuvchining imtihon samaradorligi*\n",
        "\n",
        "- `UNS`\t--->  *Foydalanuvchining bilim darajasi (juda past, past, o'rta, yuqori)*"
      ],
      "metadata": {
        "id": "-itR5LA91gdA"
      }
    },
    {
      "cell_type": "code",
      "source": [
        "!pip install xlrd==1.2.0"
      ],
      "metadata": {
        "id": "uil8yZHFKfAJ",
        "colab": {
          "base_uri": "https://localhost:8080/"
        },
        "outputId": "8dde9203-2221-4c22-f336-3fdc26955efd"
      },
      "execution_count": 2,
      "outputs": [
        {
          "output_type": "stream",
          "name": "stdout",
          "text": [
            "Looking in indexes: https://pypi.org/simple, https://us-python.pkg.dev/colab-wheels/public/simple/\n",
            "Collecting xlrd==1.2.0\n",
            "  Downloading xlrd-1.2.0-py2.py3-none-any.whl (103 kB)\n",
            "\u001b[K     |████████████████████████████████| 103 kB 29.2 MB/s \n",
            "\u001b[?25hInstalling collected packages: xlrd\n",
            "  Attempting uninstall: xlrd\n",
            "    Found existing installation: xlrd 1.1.0\n",
            "    Uninstalling xlrd-1.1.0:\n",
            "      Successfully uninstalled xlrd-1.1.0\n",
            "Successfully installed xlrd-1.2.0\n"
          ]
        }
      ]
    },
    {
      "cell_type": "markdown",
      "source": [
        "excel faylni o'qish uchun `xlrd` ning yangiroq versiyasini o'rnatib oldik."
      ],
      "metadata": {
        "id": "gYveWztItavZ"
      }
    },
    {
      "cell_type": "code",
      "source": [
        "url = \"https://github.com/farkhod-developer/Datasets_Practice/blob/main/Predict_student'_%20knowledge_level.xls?raw=True\"\n",
        "df = pd.read_excel(url)\n",
        "df.head()"
      ],
      "metadata": {
        "colab": {
          "base_uri": "https://localhost:8080/",
          "height": 206
        },
        "id": "N-fkyubVIlYa",
        "outputId": "6352d14a-745a-40e9-fd87-2bd3a6bda2ad"
      },
      "execution_count": 3,
      "outputs": [
        {
          "output_type": "execute_result",
          "data": {
            "text/plain": [
              "    STG   SCG   STR   LPR   PEG       UNS\n",
              "0  0.00  0.00  0.00  0.00  0.00  very_low\n",
              "1  0.08  0.08  0.10  0.24  0.90      High\n",
              "2  0.06  0.06  0.05  0.25  0.33       Low\n",
              "3  0.10  0.10  0.15  0.65  0.30    Middle\n",
              "4  0.08  0.08  0.08  0.98  0.24       Low"
            ],
            "text/html": [
              "\n",
              "  <div id=\"df-ea9a179c-7d04-418d-a275-4f241c9d9429\">\n",
              "    <div class=\"colab-df-container\">\n",
              "      <div>\n",
              "<style scoped>\n",
              "    .dataframe tbody tr th:only-of-type {\n",
              "        vertical-align: middle;\n",
              "    }\n",
              "\n",
              "    .dataframe tbody tr th {\n",
              "        vertical-align: top;\n",
              "    }\n",
              "\n",
              "    .dataframe thead th {\n",
              "        text-align: right;\n",
              "    }\n",
              "</style>\n",
              "<table border=\"1\" class=\"dataframe\">\n",
              "  <thead>\n",
              "    <tr style=\"text-align: right;\">\n",
              "      <th></th>\n",
              "      <th>STG</th>\n",
              "      <th>SCG</th>\n",
              "      <th>STR</th>\n",
              "      <th>LPR</th>\n",
              "      <th>PEG</th>\n",
              "      <th>UNS</th>\n",
              "    </tr>\n",
              "  </thead>\n",
              "  <tbody>\n",
              "    <tr>\n",
              "      <th>0</th>\n",
              "      <td>0.00</td>\n",
              "      <td>0.00</td>\n",
              "      <td>0.00</td>\n",
              "      <td>0.00</td>\n",
              "      <td>0.00</td>\n",
              "      <td>very_low</td>\n",
              "    </tr>\n",
              "    <tr>\n",
              "      <th>1</th>\n",
              "      <td>0.08</td>\n",
              "      <td>0.08</td>\n",
              "      <td>0.10</td>\n",
              "      <td>0.24</td>\n",
              "      <td>0.90</td>\n",
              "      <td>High</td>\n",
              "    </tr>\n",
              "    <tr>\n",
              "      <th>2</th>\n",
              "      <td>0.06</td>\n",
              "      <td>0.06</td>\n",
              "      <td>0.05</td>\n",
              "      <td>0.25</td>\n",
              "      <td>0.33</td>\n",
              "      <td>Low</td>\n",
              "    </tr>\n",
              "    <tr>\n",
              "      <th>3</th>\n",
              "      <td>0.10</td>\n",
              "      <td>0.10</td>\n",
              "      <td>0.15</td>\n",
              "      <td>0.65</td>\n",
              "      <td>0.30</td>\n",
              "      <td>Middle</td>\n",
              "    </tr>\n",
              "    <tr>\n",
              "      <th>4</th>\n",
              "      <td>0.08</td>\n",
              "      <td>0.08</td>\n",
              "      <td>0.08</td>\n",
              "      <td>0.98</td>\n",
              "      <td>0.24</td>\n",
              "      <td>Low</td>\n",
              "    </tr>\n",
              "  </tbody>\n",
              "</table>\n",
              "</div>\n",
              "      <button class=\"colab-df-convert\" onclick=\"convertToInteractive('df-ea9a179c-7d04-418d-a275-4f241c9d9429')\"\n",
              "              title=\"Convert this dataframe to an interactive table.\"\n",
              "              style=\"display:none;\">\n",
              "        \n",
              "  <svg xmlns=\"http://www.w3.org/2000/svg\" height=\"24px\"viewBox=\"0 0 24 24\"\n",
              "       width=\"24px\">\n",
              "    <path d=\"M0 0h24v24H0V0z\" fill=\"none\"/>\n",
              "    <path d=\"M18.56 5.44l.94 2.06.94-2.06 2.06-.94-2.06-.94-.94-2.06-.94 2.06-2.06.94zm-11 1L8.5 8.5l.94-2.06 2.06-.94-2.06-.94L8.5 2.5l-.94 2.06-2.06.94zm10 10l.94 2.06.94-2.06 2.06-.94-2.06-.94-.94-2.06-.94 2.06-2.06.94z\"/><path d=\"M17.41 7.96l-1.37-1.37c-.4-.4-.92-.59-1.43-.59-.52 0-1.04.2-1.43.59L10.3 9.45l-7.72 7.72c-.78.78-.78 2.05 0 2.83L4 21.41c.39.39.9.59 1.41.59.51 0 1.02-.2 1.41-.59l7.78-7.78 2.81-2.81c.8-.78.8-2.07 0-2.86zM5.41 20L4 18.59l7.72-7.72 1.47 1.35L5.41 20z\"/>\n",
              "  </svg>\n",
              "      </button>\n",
              "      \n",
              "  <style>\n",
              "    .colab-df-container {\n",
              "      display:flex;\n",
              "      flex-wrap:wrap;\n",
              "      gap: 12px;\n",
              "    }\n",
              "\n",
              "    .colab-df-convert {\n",
              "      background-color: #E8F0FE;\n",
              "      border: none;\n",
              "      border-radius: 50%;\n",
              "      cursor: pointer;\n",
              "      display: none;\n",
              "      fill: #1967D2;\n",
              "      height: 32px;\n",
              "      padding: 0 0 0 0;\n",
              "      width: 32px;\n",
              "    }\n",
              "\n",
              "    .colab-df-convert:hover {\n",
              "      background-color: #E2EBFA;\n",
              "      box-shadow: 0px 1px 2px rgba(60, 64, 67, 0.3), 0px 1px 3px 1px rgba(60, 64, 67, 0.15);\n",
              "      fill: #174EA6;\n",
              "    }\n",
              "\n",
              "    [theme=dark] .colab-df-convert {\n",
              "      background-color: #3B4455;\n",
              "      fill: #D2E3FC;\n",
              "    }\n",
              "\n",
              "    [theme=dark] .colab-df-convert:hover {\n",
              "      background-color: #434B5C;\n",
              "      box-shadow: 0px 1px 3px 1px rgba(0, 0, 0, 0.15);\n",
              "      filter: drop-shadow(0px 1px 2px rgba(0, 0, 0, 0.3));\n",
              "      fill: #FFFFFF;\n",
              "    }\n",
              "  </style>\n",
              "\n",
              "      <script>\n",
              "        const buttonEl =\n",
              "          document.querySelector('#df-ea9a179c-7d04-418d-a275-4f241c9d9429 button.colab-df-convert');\n",
              "        buttonEl.style.display =\n",
              "          google.colab.kernel.accessAllowed ? 'block' : 'none';\n",
              "\n",
              "        async function convertToInteractive(key) {\n",
              "          const element = document.querySelector('#df-ea9a179c-7d04-418d-a275-4f241c9d9429');\n",
              "          const dataTable =\n",
              "            await google.colab.kernel.invokeFunction('convertToInteractive',\n",
              "                                                     [key], {});\n",
              "          if (!dataTable) return;\n",
              "\n",
              "          const docLinkHtml = 'Like what you see? Visit the ' +\n",
              "            '<a target=\"_blank\" href=https://colab.research.google.com/notebooks/data_table.ipynb>data table notebook</a>'\n",
              "            + ' to learn more about interactive tables.';\n",
              "          element.innerHTML = '';\n",
              "          dataTable['output_type'] = 'display_data';\n",
              "          await google.colab.output.renderOutput(dataTable, element);\n",
              "          const docLink = document.createElement('div');\n",
              "          docLink.innerHTML = docLinkHtml;\n",
              "          element.appendChild(docLink);\n",
              "        }\n",
              "      </script>\n",
              "    </div>\n",
              "  </div>\n",
              "  "
            ]
          },
          "metadata": {},
          "execution_count": 3
        }
      ]
    },
    {
      "cell_type": "code",
      "source": [
        "df.shape"
      ],
      "metadata": {
        "id": "m-Hlxdp8KMKE",
        "colab": {
          "base_uri": "https://localhost:8080/"
        },
        "outputId": "1ec44a55-2f20-49d3-d132-25320fcb647b"
      },
      "execution_count": 4,
      "outputs": [
        {
          "output_type": "execute_result",
          "data": {
            "text/plain": [
              "(403, 6)"
            ]
          },
          "metadata": {},
          "execution_count": 4
        }
      ]
    },
    {
      "cell_type": "markdown",
      "source": [
        "datasetimiz 403 ta qator 6 ustundan iborat ekan"
      ],
      "metadata": {
        "id": "uvOdFgHIt--u"
      }
    },
    {
      "cell_type": "code",
      "source": [
        "df.info()"
      ],
      "metadata": {
        "id": "W7aBpViEKZbc",
        "colab": {
          "base_uri": "https://localhost:8080/"
        },
        "outputId": "039a3978-fa4f-476c-f9e1-9f2d3bd60d2e"
      },
      "execution_count": 5,
      "outputs": [
        {
          "output_type": "stream",
          "name": "stdout",
          "text": [
            "<class 'pandas.core.frame.DataFrame'>\n",
            "RangeIndex: 403 entries, 0 to 402\n",
            "Data columns (total 6 columns):\n",
            " #   Column  Non-Null Count  Dtype  \n",
            "---  ------  --------------  -----  \n",
            " 0   STG     403 non-null    float64\n",
            " 1   SCG     403 non-null    float64\n",
            " 2   STR     403 non-null    float64\n",
            " 3   LPR     403 non-null    float64\n",
            " 4   PEG     403 non-null    float64\n",
            " 5    UNS    403 non-null    object \n",
            "dtypes: float64(5), object(1)\n",
            "memory usage: 19.0+ KB\n"
          ]
        }
      ]
    },
    {
      "cell_type": "code",
      "source": [
        "# takrorlangan qiymatlar yo'q\n",
        "df.duplicated().sum()"
      ],
      "metadata": {
        "colab": {
          "base_uri": "https://localhost:8080/"
        },
        "id": "IBngOTXwSmNb",
        "outputId": "6279b8fe-0974-41a1-f464-74f3030d512e"
      },
      "execution_count": 6,
      "outputs": [
        {
          "output_type": "execute_result",
          "data": {
            "text/plain": [
              "0"
            ]
          },
          "metadata": {},
          "execution_count": 6
        }
      ]
    },
    {
      "cell_type": "code",
      "source": [
        "df.describe()"
      ],
      "metadata": {
        "colab": {
          "base_uri": "https://localhost:8080/",
          "height": 300
        },
        "id": "JnUvTR3vS2Hr",
        "outputId": "29cdfd62-2ecd-4730-859e-8c4cfef95be9"
      },
      "execution_count": 7,
      "outputs": [
        {
          "output_type": "execute_result",
          "data": {
            "text/plain": [
              "              STG         SCG         STR         LPR         PEG\n",
              "count  403.000000  403.000000  403.000000  403.000000  403.000000\n",
              "mean     0.353141    0.355940    0.457655    0.431342    0.456360\n",
              "std      0.212018    0.215531    0.246684    0.257545    0.266775\n",
              "min      0.000000    0.000000    0.000000    0.000000    0.000000\n",
              "25%      0.200000    0.200000    0.265000    0.250000    0.250000\n",
              "50%      0.300000    0.300000    0.440000    0.330000    0.400000\n",
              "75%      0.480000    0.510000    0.680000    0.650000    0.660000\n",
              "max      0.990000    0.900000    0.950000    0.990000    0.990000"
            ],
            "text/html": [
              "\n",
              "  <div id=\"df-8a92ea6d-bea1-44d9-aea8-7c5e51d38d4c\">\n",
              "    <div class=\"colab-df-container\">\n",
              "      <div>\n",
              "<style scoped>\n",
              "    .dataframe tbody tr th:only-of-type {\n",
              "        vertical-align: middle;\n",
              "    }\n",
              "\n",
              "    .dataframe tbody tr th {\n",
              "        vertical-align: top;\n",
              "    }\n",
              "\n",
              "    .dataframe thead th {\n",
              "        text-align: right;\n",
              "    }\n",
              "</style>\n",
              "<table border=\"1\" class=\"dataframe\">\n",
              "  <thead>\n",
              "    <tr style=\"text-align: right;\">\n",
              "      <th></th>\n",
              "      <th>STG</th>\n",
              "      <th>SCG</th>\n",
              "      <th>STR</th>\n",
              "      <th>LPR</th>\n",
              "      <th>PEG</th>\n",
              "    </tr>\n",
              "  </thead>\n",
              "  <tbody>\n",
              "    <tr>\n",
              "      <th>count</th>\n",
              "      <td>403.000000</td>\n",
              "      <td>403.000000</td>\n",
              "      <td>403.000000</td>\n",
              "      <td>403.000000</td>\n",
              "      <td>403.000000</td>\n",
              "    </tr>\n",
              "    <tr>\n",
              "      <th>mean</th>\n",
              "      <td>0.353141</td>\n",
              "      <td>0.355940</td>\n",
              "      <td>0.457655</td>\n",
              "      <td>0.431342</td>\n",
              "      <td>0.456360</td>\n",
              "    </tr>\n",
              "    <tr>\n",
              "      <th>std</th>\n",
              "      <td>0.212018</td>\n",
              "      <td>0.215531</td>\n",
              "      <td>0.246684</td>\n",
              "      <td>0.257545</td>\n",
              "      <td>0.266775</td>\n",
              "    </tr>\n",
              "    <tr>\n",
              "      <th>min</th>\n",
              "      <td>0.000000</td>\n",
              "      <td>0.000000</td>\n",
              "      <td>0.000000</td>\n",
              "      <td>0.000000</td>\n",
              "      <td>0.000000</td>\n",
              "    </tr>\n",
              "    <tr>\n",
              "      <th>25%</th>\n",
              "      <td>0.200000</td>\n",
              "      <td>0.200000</td>\n",
              "      <td>0.265000</td>\n",
              "      <td>0.250000</td>\n",
              "      <td>0.250000</td>\n",
              "    </tr>\n",
              "    <tr>\n",
              "      <th>50%</th>\n",
              "      <td>0.300000</td>\n",
              "      <td>0.300000</td>\n",
              "      <td>0.440000</td>\n",
              "      <td>0.330000</td>\n",
              "      <td>0.400000</td>\n",
              "    </tr>\n",
              "    <tr>\n",
              "      <th>75%</th>\n",
              "      <td>0.480000</td>\n",
              "      <td>0.510000</td>\n",
              "      <td>0.680000</td>\n",
              "      <td>0.650000</td>\n",
              "      <td>0.660000</td>\n",
              "    </tr>\n",
              "    <tr>\n",
              "      <th>max</th>\n",
              "      <td>0.990000</td>\n",
              "      <td>0.900000</td>\n",
              "      <td>0.950000</td>\n",
              "      <td>0.990000</td>\n",
              "      <td>0.990000</td>\n",
              "    </tr>\n",
              "  </tbody>\n",
              "</table>\n",
              "</div>\n",
              "      <button class=\"colab-df-convert\" onclick=\"convertToInteractive('df-8a92ea6d-bea1-44d9-aea8-7c5e51d38d4c')\"\n",
              "              title=\"Convert this dataframe to an interactive table.\"\n",
              "              style=\"display:none;\">\n",
              "        \n",
              "  <svg xmlns=\"http://www.w3.org/2000/svg\" height=\"24px\"viewBox=\"0 0 24 24\"\n",
              "       width=\"24px\">\n",
              "    <path d=\"M0 0h24v24H0V0z\" fill=\"none\"/>\n",
              "    <path d=\"M18.56 5.44l.94 2.06.94-2.06 2.06-.94-2.06-.94-.94-2.06-.94 2.06-2.06.94zm-11 1L8.5 8.5l.94-2.06 2.06-.94-2.06-.94L8.5 2.5l-.94 2.06-2.06.94zm10 10l.94 2.06.94-2.06 2.06-.94-2.06-.94-.94-2.06-.94 2.06-2.06.94z\"/><path d=\"M17.41 7.96l-1.37-1.37c-.4-.4-.92-.59-1.43-.59-.52 0-1.04.2-1.43.59L10.3 9.45l-7.72 7.72c-.78.78-.78 2.05 0 2.83L4 21.41c.39.39.9.59 1.41.59.51 0 1.02-.2 1.41-.59l7.78-7.78 2.81-2.81c.8-.78.8-2.07 0-2.86zM5.41 20L4 18.59l7.72-7.72 1.47 1.35L5.41 20z\"/>\n",
              "  </svg>\n",
              "      </button>\n",
              "      \n",
              "  <style>\n",
              "    .colab-df-container {\n",
              "      display:flex;\n",
              "      flex-wrap:wrap;\n",
              "      gap: 12px;\n",
              "    }\n",
              "\n",
              "    .colab-df-convert {\n",
              "      background-color: #E8F0FE;\n",
              "      border: none;\n",
              "      border-radius: 50%;\n",
              "      cursor: pointer;\n",
              "      display: none;\n",
              "      fill: #1967D2;\n",
              "      height: 32px;\n",
              "      padding: 0 0 0 0;\n",
              "      width: 32px;\n",
              "    }\n",
              "\n",
              "    .colab-df-convert:hover {\n",
              "      background-color: #E2EBFA;\n",
              "      box-shadow: 0px 1px 2px rgba(60, 64, 67, 0.3), 0px 1px 3px 1px rgba(60, 64, 67, 0.15);\n",
              "      fill: #174EA6;\n",
              "    }\n",
              "\n",
              "    [theme=dark] .colab-df-convert {\n",
              "      background-color: #3B4455;\n",
              "      fill: #D2E3FC;\n",
              "    }\n",
              "\n",
              "    [theme=dark] .colab-df-convert:hover {\n",
              "      background-color: #434B5C;\n",
              "      box-shadow: 0px 1px 3px 1px rgba(0, 0, 0, 0.15);\n",
              "      filter: drop-shadow(0px 1px 2px rgba(0, 0, 0, 0.3));\n",
              "      fill: #FFFFFF;\n",
              "    }\n",
              "  </style>\n",
              "\n",
              "      <script>\n",
              "        const buttonEl =\n",
              "          document.querySelector('#df-8a92ea6d-bea1-44d9-aea8-7c5e51d38d4c button.colab-df-convert');\n",
              "        buttonEl.style.display =\n",
              "          google.colab.kernel.accessAllowed ? 'block' : 'none';\n",
              "\n",
              "        async function convertToInteractive(key) {\n",
              "          const element = document.querySelector('#df-8a92ea6d-bea1-44d9-aea8-7c5e51d38d4c');\n",
              "          const dataTable =\n",
              "            await google.colab.kernel.invokeFunction('convertToInteractive',\n",
              "                                                     [key], {});\n",
              "          if (!dataTable) return;\n",
              "\n",
              "          const docLinkHtml = 'Like what you see? Visit the ' +\n",
              "            '<a target=\"_blank\" href=https://colab.research.google.com/notebooks/data_table.ipynb>data table notebook</a>'\n",
              "            + ' to learn more about interactive tables.';\n",
              "          element.innerHTML = '';\n",
              "          dataTable['output_type'] = 'display_data';\n",
              "          await google.colab.output.renderOutput(dataTable, element);\n",
              "          const docLink = document.createElement('div');\n",
              "          docLink.innerHTML = docLinkHtml;\n",
              "          element.appendChild(docLink);\n",
              "        }\n",
              "      </script>\n",
              "    </div>\n",
              "  </div>\n",
              "  "
            ]
          },
          "metadata": {},
          "execution_count": 7
        }
      ]
    },
    {
      "cell_type": "code",
      "source": [
        "# ushbu ustunda qandaydur xatolik mavjud\n",
        "df['UNS'].value_counts()"
      ],
      "metadata": {
        "colab": {
          "base_uri": "https://localhost:8080/",
          "height": 528
        },
        "id": "7Of_k21ES9wv",
        "outputId": "3e789f6f-b2bb-4ca3-a2e5-c80e8ccfe5ab"
      },
      "execution_count": 8,
      "outputs": [
        {
          "output_type": "error",
          "ename": "KeyError",
          "evalue": "ignored",
          "traceback": [
            "\u001b[0;31m---------------------------------------------------------------------------\u001b[0m",
            "\u001b[0;31mKeyError\u001b[0m                                  Traceback (most recent call last)",
            "\u001b[0;32m/usr/local/lib/python3.7/dist-packages/pandas/core/indexes/base.py\u001b[0m in \u001b[0;36mget_loc\u001b[0;34m(self, key, method, tolerance)\u001b[0m\n\u001b[1;32m   3360\u001b[0m             \u001b[0;32mtry\u001b[0m\u001b[0;34m:\u001b[0m\u001b[0;34m\u001b[0m\u001b[0;34m\u001b[0m\u001b[0m\n\u001b[0;32m-> 3361\u001b[0;31m                 \u001b[0;32mreturn\u001b[0m \u001b[0mself\u001b[0m\u001b[0;34m.\u001b[0m\u001b[0m_engine\u001b[0m\u001b[0;34m.\u001b[0m\u001b[0mget_loc\u001b[0m\u001b[0;34m(\u001b[0m\u001b[0mcasted_key\u001b[0m\u001b[0;34m)\u001b[0m\u001b[0;34m\u001b[0m\u001b[0;34m\u001b[0m\u001b[0m\n\u001b[0m\u001b[1;32m   3362\u001b[0m             \u001b[0;32mexcept\u001b[0m \u001b[0mKeyError\u001b[0m \u001b[0;32mas\u001b[0m \u001b[0merr\u001b[0m\u001b[0;34m:\u001b[0m\u001b[0;34m\u001b[0m\u001b[0;34m\u001b[0m\u001b[0m\n",
            "\u001b[0;32m/usr/local/lib/python3.7/dist-packages/pandas/_libs/index.pyx\u001b[0m in \u001b[0;36mpandas._libs.index.IndexEngine.get_loc\u001b[0;34m()\u001b[0m\n",
            "\u001b[0;32m/usr/local/lib/python3.7/dist-packages/pandas/_libs/index.pyx\u001b[0m in \u001b[0;36mpandas._libs.index.IndexEngine.get_loc\u001b[0;34m()\u001b[0m\n",
            "\u001b[0;32mpandas/_libs/hashtable_class_helper.pxi\u001b[0m in \u001b[0;36mpandas._libs.hashtable.PyObjectHashTable.get_item\u001b[0;34m()\u001b[0m\n",
            "\u001b[0;32mpandas/_libs/hashtable_class_helper.pxi\u001b[0m in \u001b[0;36mpandas._libs.hashtable.PyObjectHashTable.get_item\u001b[0;34m()\u001b[0m\n",
            "\u001b[0;31mKeyError\u001b[0m: 'UNS'",
            "\nThe above exception was the direct cause of the following exception:\n",
            "\u001b[0;31mKeyError\u001b[0m                                  Traceback (most recent call last)",
            "\u001b[0;32m<ipython-input-8-5c5cab3142c5>\u001b[0m in \u001b[0;36m<module>\u001b[0;34m()\u001b[0m\n\u001b[1;32m      1\u001b[0m \u001b[0;31m# ushbu ustunda qandaydur xatolik mavjud\u001b[0m\u001b[0;34m\u001b[0m\u001b[0;34m\u001b[0m\u001b[0;34m\u001b[0m\u001b[0m\n\u001b[0;32m----> 2\u001b[0;31m \u001b[0mdf\u001b[0m\u001b[0;34m[\u001b[0m\u001b[0;34m'UNS'\u001b[0m\u001b[0;34m]\u001b[0m\u001b[0;34m.\u001b[0m\u001b[0mvalue_counts\u001b[0m\u001b[0;34m(\u001b[0m\u001b[0;34m)\u001b[0m\u001b[0;34m\u001b[0m\u001b[0;34m\u001b[0m\u001b[0m\n\u001b[0m",
            "\u001b[0;32m/usr/local/lib/python3.7/dist-packages/pandas/core/frame.py\u001b[0m in \u001b[0;36m__getitem__\u001b[0;34m(self, key)\u001b[0m\n\u001b[1;32m   3456\u001b[0m             \u001b[0;32mif\u001b[0m \u001b[0mself\u001b[0m\u001b[0;34m.\u001b[0m\u001b[0mcolumns\u001b[0m\u001b[0;34m.\u001b[0m\u001b[0mnlevels\u001b[0m \u001b[0;34m>\u001b[0m \u001b[0;36m1\u001b[0m\u001b[0;34m:\u001b[0m\u001b[0;34m\u001b[0m\u001b[0;34m\u001b[0m\u001b[0m\n\u001b[1;32m   3457\u001b[0m                 \u001b[0;32mreturn\u001b[0m \u001b[0mself\u001b[0m\u001b[0;34m.\u001b[0m\u001b[0m_getitem_multilevel\u001b[0m\u001b[0;34m(\u001b[0m\u001b[0mkey\u001b[0m\u001b[0;34m)\u001b[0m\u001b[0;34m\u001b[0m\u001b[0;34m\u001b[0m\u001b[0m\n\u001b[0;32m-> 3458\u001b[0;31m             \u001b[0mindexer\u001b[0m \u001b[0;34m=\u001b[0m \u001b[0mself\u001b[0m\u001b[0;34m.\u001b[0m\u001b[0mcolumns\u001b[0m\u001b[0;34m.\u001b[0m\u001b[0mget_loc\u001b[0m\u001b[0;34m(\u001b[0m\u001b[0mkey\u001b[0m\u001b[0;34m)\u001b[0m\u001b[0;34m\u001b[0m\u001b[0;34m\u001b[0m\u001b[0m\n\u001b[0m\u001b[1;32m   3459\u001b[0m             \u001b[0;32mif\u001b[0m \u001b[0mis_integer\u001b[0m\u001b[0;34m(\u001b[0m\u001b[0mindexer\u001b[0m\u001b[0;34m)\u001b[0m\u001b[0;34m:\u001b[0m\u001b[0;34m\u001b[0m\u001b[0;34m\u001b[0m\u001b[0m\n\u001b[1;32m   3460\u001b[0m                 \u001b[0mindexer\u001b[0m \u001b[0;34m=\u001b[0m \u001b[0;34m[\u001b[0m\u001b[0mindexer\u001b[0m\u001b[0;34m]\u001b[0m\u001b[0;34m\u001b[0m\u001b[0;34m\u001b[0m\u001b[0m\n",
            "\u001b[0;32m/usr/local/lib/python3.7/dist-packages/pandas/core/indexes/base.py\u001b[0m in \u001b[0;36mget_loc\u001b[0;34m(self, key, method, tolerance)\u001b[0m\n\u001b[1;32m   3361\u001b[0m                 \u001b[0;32mreturn\u001b[0m \u001b[0mself\u001b[0m\u001b[0;34m.\u001b[0m\u001b[0m_engine\u001b[0m\u001b[0;34m.\u001b[0m\u001b[0mget_loc\u001b[0m\u001b[0;34m(\u001b[0m\u001b[0mcasted_key\u001b[0m\u001b[0;34m)\u001b[0m\u001b[0;34m\u001b[0m\u001b[0;34m\u001b[0m\u001b[0m\n\u001b[1;32m   3362\u001b[0m             \u001b[0;32mexcept\u001b[0m \u001b[0mKeyError\u001b[0m \u001b[0;32mas\u001b[0m \u001b[0merr\u001b[0m\u001b[0;34m:\u001b[0m\u001b[0;34m\u001b[0m\u001b[0;34m\u001b[0m\u001b[0m\n\u001b[0;32m-> 3363\u001b[0;31m                 \u001b[0;32mraise\u001b[0m \u001b[0mKeyError\u001b[0m\u001b[0;34m(\u001b[0m\u001b[0mkey\u001b[0m\u001b[0;34m)\u001b[0m \u001b[0;32mfrom\u001b[0m \u001b[0merr\u001b[0m\u001b[0;34m\u001b[0m\u001b[0;34m\u001b[0m\u001b[0m\n\u001b[0m\u001b[1;32m   3364\u001b[0m \u001b[0;34m\u001b[0m\u001b[0m\n\u001b[1;32m   3365\u001b[0m         \u001b[0;32mif\u001b[0m \u001b[0mis_scalar\u001b[0m\u001b[0;34m(\u001b[0m\u001b[0mkey\u001b[0m\u001b[0;34m)\u001b[0m \u001b[0;32mand\u001b[0m \u001b[0misna\u001b[0m\u001b[0;34m(\u001b[0m\u001b[0mkey\u001b[0m\u001b[0;34m)\u001b[0m \u001b[0;32mand\u001b[0m \u001b[0;32mnot\u001b[0m \u001b[0mself\u001b[0m\u001b[0;34m.\u001b[0m\u001b[0mhasnans\u001b[0m\u001b[0;34m:\u001b[0m\u001b[0;34m\u001b[0m\u001b[0;34m\u001b[0m\u001b[0m\n",
            "\u001b[0;31mKeyError\u001b[0m: 'UNS'"
          ]
        }
      ]
    },
    {
      "cell_type": "code",
      "source": [
        "df.rename(columns={' UNS': 'UNS'}, inplace=True)"
      ],
      "metadata": {
        "id": "smFFurBTZGDi"
      },
      "execution_count": 9,
      "outputs": []
    },
    {
      "cell_type": "markdown",
      "source": [
        "Ushbu ustunning oldida bo'sh probel bor ekan, ushbu probelni olib tashlaymiz"
      ],
      "metadata": {
        "id": "bHyjIDHpu0lD"
      }
    },
    {
      "cell_type": "code",
      "source": [
        "df['UNS'].value_counts()"
      ],
      "metadata": {
        "colab": {
          "base_uri": "https://localhost:8080/"
        },
        "id": "MbGUqag4ZTfV",
        "outputId": "23b158a1-529a-4418-8c63-d7e422c7e74b"
      },
      "execution_count": 10,
      "outputs": [
        {
          "output_type": "execute_result",
          "data": {
            "text/plain": [
              "Low         129\n",
              "Middle      122\n",
              "High        102\n",
              "Very Low     26\n",
              "very_low     24\n",
              "Name: UNS, dtype: int64"
            ]
          },
          "metadata": {},
          "execution_count": 10
        }
      ]
    },
    {
      "cell_type": "markdown",
      "source": [
        "bizga kerakli bo'lgan matnli ustunimizni raqamlarga o'zgartirib olamiz"
      ],
      "metadata": {
        "id": "CIeTxIQevQ6Q"
      }
    },
    {
      "cell_type": "code",
      "source": [
        "df['UNS'].replace(\"Very Low\",0, inplace=True)\n",
        "df['UNS'].replace(\"very_low\",0, inplace=True)\n",
        "df['UNS'].replace(\"Low\",1, inplace=True)\n",
        "df['UNS'].replace(\"Middle\",2, inplace=True)\n",
        "df['UNS'].replace(\"High\",3, inplace=True)\n",
        "df['UNS'].value_counts()"
      ],
      "metadata": {
        "colab": {
          "base_uri": "https://localhost:8080/"
        },
        "id": "lQjyMNysjnuX",
        "outputId": "33e1c381-63b6-4afe-a4e5-1004a0ede9e8"
      },
      "execution_count": 12,
      "outputs": [
        {
          "output_type": "execute_result",
          "data": {
            "text/plain": [
              "1    129\n",
              "2    122\n",
              "3    102\n",
              "0     50\n",
              "Name: UNS, dtype: int64"
            ]
          },
          "metadata": {},
          "execution_count": 12
        }
      ]
    },
    {
      "cell_type": "code",
      "source": [
        "# UNS ustuniga nisbatan barcha ustunlarning korrelyatsiyasini ko'rishimiz mumkin\n",
        "df.corrwith(df['UNS']).abs().sort_values(ascending=False)"
      ],
      "metadata": {
        "colab": {
          "base_uri": "https://localhost:8080/"
        },
        "id": "tlJqoOUVc5w3",
        "outputId": "126595f0-abd9-4169-f7cd-fb7825b519a9"
      },
      "execution_count": 13,
      "outputs": [
        {
          "output_type": "execute_result",
          "data": {
            "text/plain": [
              "UNS    1.000000\n",
              "PEG    0.919456\n",
              "SCG    0.249095\n",
              "LPR    0.247968\n",
              "STG    0.217477\n",
              "STR    0.203452\n",
              "dtype: float64"
            ]
          },
          "metadata": {},
          "execution_count": 13
        }
      ]
    },
    {
      "cell_type": "code",
      "source": [
        "# bu ham korrelyatsiyani vizualizatsiya ko'rinishida\n",
        "corr_matrix = df.corr().abs()\n",
        "corr_matrix.style.background_gradient(cmap='coolwarm')"
      ],
      "metadata": {
        "colab": {
          "base_uri": "https://localhost:8080/",
          "height": 237
        },
        "id": "YrL5977SpJEo",
        "outputId": "8903fd83-6a0a-4d5c-e793-d722274102ee"
      },
      "execution_count": 14,
      "outputs": [
        {
          "output_type": "execute_result",
          "data": {
            "text/plain": [
              "<pandas.io.formats.style.Styler at 0x7f22a644fa10>"
            ],
            "text/html": [
              "<style type=\"text/css\">\n",
              "#T_ed8a1_row0_col0, #T_ed8a1_row1_col1, #T_ed8a1_row2_col2, #T_ed8a1_row3_col3, #T_ed8a1_row4_col4, #T_ed8a1_row5_col5 {\n",
              "  background-color: #b40426;\n",
              "  color: #f1f1f1;\n",
              "}\n",
              "#T_ed8a1_row0_col1, #T_ed8a1_row0_col2, #T_ed8a1_row1_col0, #T_ed8a1_row2_col0, #T_ed8a1_row2_col5, #T_ed8a1_row3_col4, #T_ed8a1_row4_col3 {\n",
              "  background-color: #3b4cc0;\n",
              "  color: #f1f1f1;\n",
              "}\n",
              "#T_ed8a1_row0_col3, #T_ed8a1_row2_col1, #T_ed8a1_row3_col1 {\n",
              "  background-color: #516ddb;\n",
              "  color: #f1f1f1;\n",
              "}\n",
              "#T_ed8a1_row0_col4 {\n",
              "  background-color: #6f92f3;\n",
              "  color: #f1f1f1;\n",
              "}\n",
              "#T_ed8a1_row0_col5 {\n",
              "  background-color: #3f53c6;\n",
              "  color: #f1f1f1;\n",
              "}\n",
              "#T_ed8a1_row1_col2 {\n",
              "  background-color: #506bda;\n",
              "  color: #f1f1f1;\n",
              "}\n",
              "#T_ed8a1_row1_col3 {\n",
              "  background-color: #5470de;\n",
              "  color: #f1f1f1;\n",
              "}\n",
              "#T_ed8a1_row1_col4 {\n",
              "  background-color: #6e90f2;\n",
              "  color: #f1f1f1;\n",
              "}\n",
              "#T_ed8a1_row1_col5, #T_ed8a1_row3_col5 {\n",
              "  background-color: #4b64d5;\n",
              "  color: #f1f1f1;\n",
              "}\n",
              "#T_ed8a1_row2_col3 {\n",
              "  background-color: #485fd1;\n",
              "  color: #f1f1f1;\n",
              "}\n",
              "#T_ed8a1_row2_col4 {\n",
              "  background-color: #5e7de7;\n",
              "  color: #f1f1f1;\n",
              "}\n",
              "#T_ed8a1_row3_col0 {\n",
              "  background-color: #4f69d9;\n",
              "  color: #f1f1f1;\n",
              "}\n",
              "#T_ed8a1_row3_col2 {\n",
              "  background-color: #445acc;\n",
              "  color: #f1f1f1;\n",
              "}\n",
              "#T_ed8a1_row4_col0, #T_ed8a1_row5_col2 {\n",
              "  background-color: #6c8ff1;\n",
              "  color: #f1f1f1;\n",
              "}\n",
              "#T_ed8a1_row4_col1 {\n",
              "  background-color: #6a8bef;\n",
              "  color: #f1f1f1;\n",
              "}\n",
              "#T_ed8a1_row4_col2 {\n",
              "  background-color: #5a78e4;\n",
              "  color: #f1f1f1;\n",
              "}\n",
              "#T_ed8a1_row4_col5 {\n",
              "  background-color: #d65244;\n",
              "  color: #f1f1f1;\n",
              "}\n",
              "#T_ed8a1_row5_col0 {\n",
              "  background-color: #7396f5;\n",
              "  color: #f1f1f1;\n",
              "}\n",
              "#T_ed8a1_row5_col1 {\n",
              "  background-color: #7ea1fa;\n",
              "  color: #f1f1f1;\n",
              "}\n",
              "#T_ed8a1_row5_col3 {\n",
              "  background-color: #81a4fb;\n",
              "  color: #f1f1f1;\n",
              "}\n",
              "#T_ed8a1_row5_col4 {\n",
              "  background-color: #d1493f;\n",
              "  color: #f1f1f1;\n",
              "}\n",
              "</style>\n",
              "<table id=\"T_ed8a1_\" class=\"dataframe\">\n",
              "  <thead>\n",
              "    <tr>\n",
              "      <th class=\"blank level0\" >&nbsp;</th>\n",
              "      <th class=\"col_heading level0 col0\" >STG</th>\n",
              "      <th class=\"col_heading level0 col1\" >SCG</th>\n",
              "      <th class=\"col_heading level0 col2\" >STR</th>\n",
              "      <th class=\"col_heading level0 col3\" >LPR</th>\n",
              "      <th class=\"col_heading level0 col4\" >PEG</th>\n",
              "      <th class=\"col_heading level0 col5\" >UNS</th>\n",
              "    </tr>\n",
              "  </thead>\n",
              "  <tbody>\n",
              "    <tr>\n",
              "      <th id=\"T_ed8a1_level0_row0\" class=\"row_heading level0 row0\" >STG</th>\n",
              "      <td id=\"T_ed8a1_row0_col0\" class=\"data row0 col0\" >1.000000</td>\n",
              "      <td id=\"T_ed8a1_row0_col1\" class=\"data row0 col1\" >0.049023</td>\n",
              "      <td id=\"T_ed8a1_row0_col2\" class=\"data row0 col2\" >0.051889</td>\n",
              "      <td id=\"T_ed8a1_row0_col3\" class=\"data row0 col3\" >0.113957</td>\n",
              "      <td id=\"T_ed8a1_row0_col4\" class=\"data row0 col4\" >0.198629</td>\n",
              "      <td id=\"T_ed8a1_row0_col5\" class=\"data row0 col5\" >0.217477</td>\n",
              "    </tr>\n",
              "    <tr>\n",
              "      <th id=\"T_ed8a1_level0_row1\" class=\"row_heading level0 row1\" >SCG</th>\n",
              "      <td id=\"T_ed8a1_row1_col0\" class=\"data row1 col0\" >0.049023</td>\n",
              "      <td id=\"T_ed8a1_row1_col1\" class=\"data row1 col1\" >1.000000</td>\n",
              "      <td id=\"T_ed8a1_row1_col2\" class=\"data row1 col2\" >0.121235</td>\n",
              "      <td id=\"T_ed8a1_row1_col3\" class=\"data row1 col3\" >0.119716</td>\n",
              "      <td id=\"T_ed8a1_row1_col4\" class=\"data row1 col4\" >0.193566</td>\n",
              "      <td id=\"T_ed8a1_row1_col5\" class=\"data row1 col5\" >0.249095</td>\n",
              "    </tr>\n",
              "    <tr>\n",
              "      <th id=\"T_ed8a1_level0_row2\" class=\"row_heading level0 row2\" >STR</th>\n",
              "      <td id=\"T_ed8a1_row2_col0\" class=\"data row2 col0\" >0.051889</td>\n",
              "      <td id=\"T_ed8a1_row2_col1\" class=\"data row2 col1\" >0.121235</td>\n",
              "      <td id=\"T_ed8a1_row2_col2\" class=\"data row2 col2\" >1.000000</td>\n",
              "      <td id=\"T_ed8a1_row2_col3\" class=\"data row2 col3\" >0.083423</td>\n",
              "      <td id=\"T_ed8a1_row2_col4\" class=\"data row2 col4\" >0.148338</td>\n",
              "      <td id=\"T_ed8a1_row2_col5\" class=\"data row2 col5\" >0.203452</td>\n",
              "    </tr>\n",
              "    <tr>\n",
              "      <th id=\"T_ed8a1_level0_row3\" class=\"row_heading level0 row3\" >LPR</th>\n",
              "      <td id=\"T_ed8a1_row3_col0\" class=\"data row3 col0\" >0.113957</td>\n",
              "      <td id=\"T_ed8a1_row3_col1\" class=\"data row3 col1\" >0.119716</td>\n",
              "      <td id=\"T_ed8a1_row3_col2\" class=\"data row3 col2\" >0.083423</td>\n",
              "      <td id=\"T_ed8a1_row3_col3\" class=\"data row3 col3\" >1.000000</td>\n",
              "      <td id=\"T_ed8a1_row3_col4\" class=\"data row3 col4\" >0.039283</td>\n",
              "      <td id=\"T_ed8a1_row3_col5\" class=\"data row3 col5\" >0.247968</td>\n",
              "    </tr>\n",
              "    <tr>\n",
              "      <th id=\"T_ed8a1_level0_row4\" class=\"row_heading level0 row4\" >PEG</th>\n",
              "      <td id=\"T_ed8a1_row4_col0\" class=\"data row4 col0\" >0.198629</td>\n",
              "      <td id=\"T_ed8a1_row4_col1\" class=\"data row4 col1\" >0.193566</td>\n",
              "      <td id=\"T_ed8a1_row4_col2\" class=\"data row4 col2\" >0.148338</td>\n",
              "      <td id=\"T_ed8a1_row4_col3\" class=\"data row4 col3\" >0.039283</td>\n",
              "      <td id=\"T_ed8a1_row4_col4\" class=\"data row4 col4\" >1.000000</td>\n",
              "      <td id=\"T_ed8a1_row4_col5\" class=\"data row4 col5\" >0.919456</td>\n",
              "    </tr>\n",
              "    <tr>\n",
              "      <th id=\"T_ed8a1_level0_row5\" class=\"row_heading level0 row5\" >UNS</th>\n",
              "      <td id=\"T_ed8a1_row5_col0\" class=\"data row5 col0\" >0.217477</td>\n",
              "      <td id=\"T_ed8a1_row5_col1\" class=\"data row5 col1\" >0.249095</td>\n",
              "      <td id=\"T_ed8a1_row5_col2\" class=\"data row5 col2\" >0.203452</td>\n",
              "      <td id=\"T_ed8a1_row5_col3\" class=\"data row5 col3\" >0.247968</td>\n",
              "      <td id=\"T_ed8a1_row5_col4\" class=\"data row5 col4\" >0.919456</td>\n",
              "      <td id=\"T_ed8a1_row5_col5\" class=\"data row5 col5\" >1.000000</td>\n",
              "    </tr>\n",
              "  </tbody>\n",
              "</table>\n"
            ]
          },
          "metadata": {},
          "execution_count": 14
        }
      ]
    },
    {
      "cell_type": "markdown",
      "source": [
        "### ML ga tayyorlaymiz"
      ],
      "metadata": {
        "id": "MBPaZJZz8Qlo"
      }
    },
    {
      "cell_type": "markdown",
      "source": [
        "`UNS` ustunimizni aloxida `y` ga ajratib oldik"
      ],
      "metadata": {
        "id": "KwWagm8IwYhl"
      }
    },
    {
      "cell_type": "code",
      "source": [
        "X = df.drop('UNS', axis=1).values\n",
        "y = df['UNS']"
      ],
      "metadata": {
        "id": "J5aS1T67wlY5"
      },
      "execution_count": 15,
      "outputs": []
    },
    {
      "cell_type": "markdown",
      "source": [
        "Standartizatsiya qildik"
      ],
      "metadata": {
        "id": "Af9M_Du0wlXH"
      }
    },
    {
      "cell_type": "code",
      "source": [
        "scaler = StandardScaler()\n",
        "X = scaler.fit_transform(X)"
      ],
      "metadata": {
        "id": "a1-5Rrs78gCd"
      },
      "execution_count": 16,
      "outputs": []
    },
    {
      "cell_type": "markdown",
      "source": [
        "## ML"
      ],
      "metadata": {
        "id": "C7SMAQv18tKF"
      }
    },
    {
      "cell_type": "code",
      "source": [
        "X_train, X_test, y_train, y_test = train_test_split(X,y, test_size=0.2, random_state=42)\n",
        "\n",
        "# k-NN\n",
        "from sklearn.neighbors import KNeighborsClassifier\n",
        "knn = KNeighborsClassifier(10) # k-ni qiymati\n",
        "\n",
        "knn.fit(X_train, y_train)"
      ],
      "metadata": {
        "colab": {
          "base_uri": "https://localhost:8080/"
        },
        "id": "UIrs4wJz8q6u",
        "outputId": "27ec61f4-6d5f-4066-997d-587a06799075"
      },
      "execution_count": 17,
      "outputs": [
        {
          "output_type": "execute_result",
          "data": {
            "text/plain": [
              "KNeighborsClassifier(n_neighbors=10)"
            ]
          },
          "metadata": {},
          "execution_count": 17
        }
      ]
    },
    {
      "cell_type": "code",
      "source": [
        "y_predict = knn.predict(X_test)"
      ],
      "metadata": {
        "id": "21t3Z4fx9K5Z"
      },
      "execution_count": 18,
      "outputs": []
    },
    {
      "cell_type": "markdown",
      "source": [
        "## Baholash"
      ],
      "metadata": {
        "id": "1rQD-lW49XAj"
      }
    },
    {
      "cell_type": "markdown",
      "source": [
        "### Jaccard index"
      ],
      "metadata": {
        "id": "dgZYTOTjYrJA"
      }
    },
    {
      "cell_type": "code",
      "source": [
        "from sklearn.metrics import jaccard_score\n",
        "\n",
        "jaccard_score(y_test, y_predict, average=\"weighted\")"
      ],
      "metadata": {
        "colab": {
          "base_uri": "https://localhost:8080/"
        },
        "id": "JMF6_39SYX5D",
        "outputId": "c20151a8-1fc9-4dc3-a829-f9f9215caaa7"
      },
      "execution_count": 19,
      "outputs": [
        {
          "output_type": "execute_result",
          "data": {
            "text/plain": [
              "0.7305476416587526"
            ]
          },
          "metadata": {},
          "execution_count": 19
        }
      ]
    },
    {
      "cell_type": "markdown",
      "source": [
        "`Jaccard index` orqali tekshirganimizda aniqlik 73% chiqyapti bu yaxshiu ko'rsatkich emas"
      ],
      "metadata": {
        "id": "r8IwlAMjy1DC"
      }
    },
    {
      "cell_type": "markdown",
      "source": [
        "### Confusion matrix"
      ],
      "metadata": {
        "id": "G22Jz7nq9f3X"
      }
    },
    {
      "cell_type": "code",
      "source": [
        "sns.heatmap(confusion_matrix(y_test, y_predict), annot=True)\n",
        "plt.show()"
      ],
      "metadata": {
        "colab": {
          "base_uri": "https://localhost:8080/",
          "height": 265
        },
        "id": "dEAGD2jX9j02",
        "outputId": "276f023e-6757-4641-efa2-ba3e1269add6"
      },
      "execution_count": 20,
      "outputs": [
        {
          "output_type": "display_data",
          "data": {
            "text/plain": [
              "<Figure size 432x288 with 2 Axes>"
            ],
            "image/png": "[encoded data removed]"
          },
          "metadata": {
            "needs_background": "light"
          }
        }
      ]
    },
    {
      "cell_type": "code",
      "source": [
        "confusion_matrix(y_test, y_predict)"
      ],
      "metadata": {
        "colab": {
          "base_uri": "https://localhost:8080/"
        },
        "id": "2iEW9s_F-s9E",
        "outputId": "f78325d5-472f-4b65-9b2a-18fad32bbacf"
      },
      "execution_count": 21,
      "outputs": [
        {
          "output_type": "execute_result",
          "data": {
            "text/plain": [
              "array([[ 9,  3,  0,  0],\n",
              "       [ 1, 20,  1,  0],\n",
              "       [ 0,  5, 21,  0],\n",
              "       [ 0,  0,  3, 18]])"
            ]
          },
          "metadata": {},
          "execution_count": 21
        }
      ]
    },
    {
      "cell_type": "markdown",
      "source": [
        "### Precision, recall, F1"
      ],
      "metadata": {
        "id": "8NTJQbG8Y1gT"
      }
    },
    {
      "cell_type": "code",
      "source": [
        "precision = precision_score(y_test, y_predict, average=\"weighted\")\n",
        "recall = recall_score(y_test, y_predict, average=\"weighted\")\n",
        "f1 = f1_score(y_test, y_predict, average=\"weighted\")\n",
        "accuracy = accuracy_score(y_test, y_predict)\n",
        "print(f\"precision= {precision:.2f}%\\nrecall= {recall:.2f}%\\nf1={f1:.2f}%\\naccuracy={accuracy:.2f}%\")"
      ],
      "metadata": {
        "colab": {
          "base_uri": "https://localhost:8080/"
        },
        "id": "Kf_CkqHZSY57",
        "outputId": "b3878cc6-f685-489e-9084-1d70f528fa9d"
      },
      "execution_count": 22,
      "outputs": [
        {
          "output_type": "stream",
          "name": "stdout",
          "text": [
            "precision= 0.86%\n",
            "recall= 0.84%\n",
            "f1=0.84%\n",
            "accuracy=0.84%\n"
          ]
        }
      ]
    },
    {
      "cell_type": "markdown",
      "source": [
        "modelimiz 84% aniqlikda ishlamoqda, bu qanchalik yaxshi yoki yomon natija ekanligiga bir nima deyish qiyin, bu datasetga bog'liq, bizning datasetimiz bor yo'g'i 403 ta qatordan iborat, dataset qanchalik ko'p bo'lsa aniqlik ham shunchalik ko'p bo'lishi mumkin"
      ],
      "metadata": {
        "id": "6xzUBwogxCGv"
      }
    },
    {
      "cell_type": "code",
      "source": [
        "print(classification_report(y_test, y_predict))"
      ],
      "metadata": {
        "colab": {
          "base_uri": "https://localhost:8080/"
        },
        "id": "EpR7-yzgS07Y",
        "outputId": "299bcfe3-75e5-4c4e-ac1f-958d7f914f0f"
      },
      "execution_count": 26,
      "outputs": [
        {
          "output_type": "stream",
          "name": "stdout",
          "text": [
            "              precision    recall  f1-score   support\n",
            "\n",
            "           0       0.90      0.75      0.82        12\n",
            "           1       0.71      0.91      0.80        22\n",
            "           2       0.84      0.81      0.82        26\n",
            "           3       1.00      0.86      0.92        21\n",
            "\n",
            "    accuracy                           0.84        81\n",
            "   macro avg       0.86      0.83      0.84        81\n",
            "weighted avg       0.86      0.84      0.84        81\n",
            "\n"
          ]
        }
      ]
    },
    {
      "cell_type": "markdown",
      "source": [
        "### Cross-validation yordamida tekshiramiz"
      ],
      "metadata": {
        "id": "XzfryDR1Y-Io"
      }
    },
    {
      "cell_type": "code",
      "source": [
        "# Cross validation\n",
        "from sklearn.model_selection import cross_val_predict\n",
        "predict = cross_val_predict(estimator = knn, X = X, y = y, cv = 10)\n",
        "\n",
        "# Modelni baholash\n",
        "from sklearn.metrics import classification_report\n",
        "print(\"Classification Report: \\n\",classification_report(y, predict))"
      ],
      "metadata": {
        "id": "FmhO0ppJAai1",
        "colab": {
          "base_uri": "https://localhost:8080/"
        },
        "outputId": "272d8441-28a2-47ff-b165-e5dba3b6a59d"
      },
      "execution_count": 24,
      "outputs": [
        {
          "output_type": "stream",
          "name": "stdout",
          "text": [
            "Classification Report: \n",
            "               precision    recall  f1-score   support\n",
            "\n",
            "           0       0.91      0.58      0.71        50\n",
            "           1       0.73      0.95      0.82       129\n",
            "           2       0.76      0.75      0.76       122\n",
            "           3       0.93      0.75      0.83       102\n",
            "\n",
            "    accuracy                           0.79       403\n",
            "   macro avg       0.83      0.76      0.78       403\n",
            "weighted avg       0.81      0.79      0.79       403\n",
            "\n"
          ]
        }
      ]
    },
    {
      "cell_type": "markdown",
      "source": [
        "`Cross validation` yordamida tekshirganimizda `79%` aniqlikda chiqmoqda.  \n",
        "Hulosa qiladigan bo'lsak aynan bir optimal yechim yo'q, bizning modelimizga qarab turli algoritmlardan turli yechimlarni olishimiz mumkin."
      ],
      "metadata": {
        "id": "tpuKGVfLzyOe"
      }
    },
    {
      "cell_type": "code",
      "source": [
        ""
      ],
      "metadata": {
        "id": "2bycVoJOCLVf"
      },
      "execution_count": null,
      "outputs": []
    }
  ]
}